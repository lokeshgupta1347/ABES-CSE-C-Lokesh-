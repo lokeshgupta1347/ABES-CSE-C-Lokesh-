{
 "cells": [
  {
   "cell_type": "code",
   "execution_count": 1,
   "id": "3138b42f",
   "metadata": {},
   "outputs": [
    {
     "name": "stdout",
     "output_type": "stream",
     "text": [
      "['apple', 'orange', 'pineapple', 'grapes']\n"
     ]
    }
   ],
   "source": [
    "a=[\"apple\", \"orange\" , \"pineapple\", \"grapes\"]\n",
    "print(a)\n"
   ]
  },
  {
   "cell_type": "code",
   "execution_count": 6,
   "id": "8290c475",
   "metadata": {},
   "outputs": [
    {
     "name": "stdout",
     "output_type": "stream",
     "text": [
      "apple\n",
      "orange\n",
      "pineapple\n",
      "grapes\n",
      "['apple', 'orange', 'guava', 'litchi']\n"
     ]
    }
   ],
   "source": [
    "a=[\"apple\", \"orange\" , \"pineapple\", \"grapes\"]\n",
    "print(a[0])\n",
    "print(a[1])\n",
    "print(a[2])\n",
    "print(a[3])\n",
    "a[2]=\"guava\"\n",
    "a[3]=\"litchi\"\n",
    "print(a)"
   ]
  }
 ],
 "metadata": {
  "kernelspec": {
   "display_name": "Python 3",
   "language": "python",
   "name": "python3"
  },
  "language_info": {
   "codemirror_mode": {
    "name": "ipython",
    "version": 3
   },
   "file_extension": ".py",
   "mimetype": "text/x-python",
   "name": "python",
   "nbconvert_exporter": "python",
   "pygments_lexer": "ipython3",
   "version": "3.13.7"
  }
 },
 "nbformat": 4,
 "nbformat_minor": 5
}
